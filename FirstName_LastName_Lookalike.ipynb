{
 "cells": [
  {
   "cell_type": "markdown",
   "id": "753a9d93",
   "metadata": {},
   "source": [
    "# Task 2 - Lookalike Model"
   ]
  },
  {
   "cell_type": "code",
   "execution_count": 14,
   "id": "b3d50e9c",
   "metadata": {},
   "outputs": [
    {
     "data": {
      "text/html": [
       "<div>\n",
       "<style scoped>\n",
       "    .dataframe tbody tr th:only-of-type {\n",
       "        vertical-align: middle;\n",
       "    }\n",
       "\n",
       "    .dataframe tbody tr th {\n",
       "        vertical-align: top;\n",
       "    }\n",
       "\n",
       "    .dataframe thead th {\n",
       "        text-align: right;\n",
       "    }\n",
       "</style>\n",
       "<table border=\"1\" class=\"dataframe\">\n",
       "  <thead>\n",
       "    <tr style=\"text-align: right;\">\n",
       "      <th></th>\n",
       "      <th>CustomerID</th>\n",
       "      <th>TotalValue</th>\n",
       "      <th>Quantity</th>\n",
       "      <th>ProductID</th>\n",
       "    </tr>\n",
       "  </thead>\n",
       "  <tbody>\n",
       "    <tr>\n",
       "      <th>0</th>\n",
       "      <td>C0001</td>\n",
       "      <td>3354.52</td>\n",
       "      <td>2.400000</td>\n",
       "      <td>5</td>\n",
       "    </tr>\n",
       "    <tr>\n",
       "      <th>1</th>\n",
       "      <td>C0002</td>\n",
       "      <td>1862.74</td>\n",
       "      <td>2.500000</td>\n",
       "      <td>4</td>\n",
       "    </tr>\n",
       "    <tr>\n",
       "      <th>2</th>\n",
       "      <td>C0003</td>\n",
       "      <td>2725.38</td>\n",
       "      <td>3.500000</td>\n",
       "      <td>4</td>\n",
       "    </tr>\n",
       "    <tr>\n",
       "      <th>3</th>\n",
       "      <td>C0004</td>\n",
       "      <td>5354.88</td>\n",
       "      <td>2.875000</td>\n",
       "      <td>8</td>\n",
       "    </tr>\n",
       "    <tr>\n",
       "      <th>4</th>\n",
       "      <td>C0005</td>\n",
       "      <td>2034.24</td>\n",
       "      <td>2.333333</td>\n",
       "      <td>3</td>\n",
       "    </tr>\n",
       "  </tbody>\n",
       "</table>\n",
       "</div>"
      ],
      "text/plain": [
       "  CustomerID  TotalValue  Quantity  ProductID\n",
       "0      C0001     3354.52  2.400000          5\n",
       "1      C0002     1862.74  2.500000          4\n",
       "2      C0003     2725.38  3.500000          4\n",
       "3      C0004     5354.88  2.875000          8\n",
       "4      C0005     2034.24  2.333333          3"
      ]
     },
     "metadata": {},
     "output_type": "display_data"
    }
   ],
   "source": [
    "# Merge customers and transactions\n",
    "customer_profile = pd.merge(customers, transactions, on='CustomerID')\n",
    "\n",
    "# Create features for the model (e.g., total spending, average order value)\n",
    "customer_features = customer_profile.groupby('CustomerID').agg({\n",
    "    'TotalValue': 'sum',  # Total spending\n",
    "    'Quantity': 'mean',   # Average order size\n",
    "    'ProductID': 'nunique'  # Number of unique products purchased\n",
    "}).reset_index()\n",
    "\n",
    "# Display the customer features\n",
    "display(customer_features.head())"
   ]
  },
  {
   "cell_type": "code",
   "execution_count": 15,
   "id": "a371d246",
   "metadata": {},
   "outputs": [],
   "source": [
    "from sklearn.preprocessing import StandardScaler\n",
    "\n",
    "scaler = StandardScaler()\n",
    "customer_features_scaled = scaler.fit_transform(customer_features[['TotalValue', 'Quantity', 'ProductID']])"
   ]
  },
  {
   "cell_type": "code",
   "execution_count": 16,
   "id": "4462e8c4",
   "metadata": {},
   "outputs": [],
   "source": [
    "similarity_matrix = cosine_similarity(customer_features_scaled)"
   ]
  },
  {
   "cell_type": "code",
   "execution_count": 17,
   "id": "93f51f47",
   "metadata": {},
   "outputs": [
    {
     "name": "stdout",
     "output_type": "stream",
     "text": [
      "Customer C0001 lookalikes: [('C0164', 0.9874606086646909), ('C0069', 0.9857637532047872), ('C0137', 0.9839856880193066)]\n",
      "Customer C0002 lookalikes: [('C0029', 0.9998350971677692), ('C0031', 0.9992894697631314), ('C0077', 0.9832855907413134)]\n",
      "Customer C0003 lookalikes: [('C0176', 0.9961770140859687), ('C0070', 0.9747953265668998), ('C0144', 0.9614960481252272)]\n",
      "Customer C0004 lookalikes: [('C0113', 0.9994735955939464), ('C0075', 0.9959996683017752), ('C0068', 0.982458550276016)]\n",
      "Customer C0005 lookalikes: [('C0131', 0.999546636087817), ('C0014', 0.9969536178830478), ('C0150', 0.9964004542019078)]\n",
      "Customer C0006 lookalikes: [('C0079', 0.9999324340696523), ('C0117', 0.9948943112905599), ('C0138', 0.9624286862898569)]\n",
      "Customer C0007 lookalikes: [('C0132', 0.9934974852547348), ('C0167', 0.9927643507972272), ('C0062', 0.987185607103804)]\n",
      "Customer C0008 lookalikes: [('C0084', 0.9872784417175624), ('C0090', 0.9869440540815962), ('C0179', 0.9767384985799966)]\n",
      "Customer C0009 lookalikes: [('C0146', 0.9955810384514817), ('C0083', 0.988754059042104), ('C0192', 0.9801609207802963)]\n",
      "Customer C0010 lookalikes: [('C0142', 0.9690636769037668), ('C0166', 0.9688775472962167), ('C0027', 0.9523041036805796)]\n",
      "Customer C0011 lookalikes: [('C0165', 0.9990480212837975), ('C0053', 0.9924577076036972), ('C0143', 0.9847755624532791)]\n",
      "Customer C0012 lookalikes: [('C0054', 0.9994158548267328), ('C0105', 0.9926312269377078), ('C0046', 0.9773003155298513)]\n",
      "Customer C0013 lookalikes: [('C0059', 0.9995250837969778), ('C0102', 0.9983425220763754), ('C0099', 0.997260782615048)]\n",
      "Customer C0014 lookalikes: [('C0033', 0.9995983919015019), ('C0060', 0.9993603383780613), ('C0150', 0.9991076699298315)]\n",
      "Customer C0015 lookalikes: [('C0123', 0.9986214788550593), ('C0150', 0.9946329647695389), ('C0130', 0.9946196889338493)]\n",
      "Customer C0016 lookalikes: [('C0107', 0.9820453985636057), ('C0152', 0.9617490023012417), ('C0184', 0.9392094913862963)]\n",
      "Customer C0017 lookalikes: [('C0175', 0.9923369740857463), ('C0162', 0.9906506363407824), ('C0109', 0.9892384974240335)]\n",
      "Customer C0018 lookalikes: [('C0182', 0.9915804280316685), ('C0148', 0.987528383927785), ('C0200', 0.9848998585574982)]\n",
      "Customer C0019 lookalikes: [('C0172', 0.9949947012226117), ('C0056', 0.9821036021959522), ('C0116', 0.9802183486414742)]\n",
      "Customer C0020 lookalikes: [('C0080', 0.9998756246639255), ('C0167', 0.9910902662535915), ('C0159', 0.98801792071227)]\n"
     ]
    }
   ],
   "source": [
    "top_lookalikes = {}\n",
    "\n",
    "for i, customer_id in enumerate(customer_features['CustomerID']):\n",
    "    similarity_scores = similarity_matrix[i]\n",
    "    top_indices = similarity_scores.argsort()[-4:-1][::-1]  # Exclude the customer itself\n",
    "    top_lookalikes[customer_id] = [(customer_features.iloc[idx]['CustomerID'], similarity_scores[idx]) for idx in top_indices]\n",
    "\n",
    "# Display the top 3 lookalikes for the first 20 customers\n",
    "for customer_id in list(top_lookalikes.keys())[:20]:\n",
    "    print(f\"Customer {customer_id} lookalikes: {top_lookalikes[customer_id]}\")"
   ]
  },
  {
   "cell_type": "code",
   "execution_count": null,
   "id": "67ad79c5",
   "metadata": {},
   "outputs": [],
   "source": []
  }
 ],
 "metadata": {
  "kernelspec": {
   "display_name": "Python 3 (ipykernel)",
   "language": "python",
   "name": "python3"
  },
  "language_info": {
   "codemirror_mode": {
    "name": "ipython",
    "version": 3
   },
   "file_extension": ".py",
   "mimetype": "text/x-python",
   "name": "python",
   "nbconvert_exporter": "python",
   "pygments_lexer": "ipython3",
   "version": "3.11.5"
  }
 },
 "nbformat": 4,
 "nbformat_minor": 5
}
